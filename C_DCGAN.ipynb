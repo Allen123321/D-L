{
  "nbformat": 4,
  "nbformat_minor": 0,
  "metadata": {
    "colab": {
      "name": "C-DCGAN",
      "version": "0.3.2",
      "provenance": [],
      "include_colab_link": true
    },
    "kernelspec": {
      "name": "python3",
      "display_name": "Python 3"
    },
    "accelerator": "GPU"
  },
  "cells": [
    {
      "cell_type": "markdown",
      "metadata": {
        "id": "view-in-github",
        "colab_type": "text"
      },
      "source": [
        "<a href=\"https://colab.research.google.com/github/Allen123321/D-L/blob/master/C_DCGAN.ipynb\" target=\"_parent\"><img src=\"https://colab.research.google.com/assets/colab-badge.svg\" alt=\"Open In Colab\"/></a>"
      ]
    },
    {
      "metadata": {
        "id": "OOWDlY2iMe0b",
        "colab_type": "code",
        "outputId": "b52628b7-6ec3-46fa-d8e2-be1c8c95c49a",
        "colab": {
          "base_uri": "https://localhost:8080/",
          "height": 440
        }
      },
      "cell_type": "code",
      "source": [
        "!pip install tensorflow-gpu"
      ],
      "execution_count": 0,
      "outputs": [
        {
          "output_type": "stream",
          "text": [
            "Collecting tensorflow-gpu\n",
            "\u001b[?25l  Downloading https://files.pythonhosted.org/packages/7b/b1/0ad4ae02e17ddd62109cd54c291e311c4b5fd09b4d0678d3d6ce4159b0f0/tensorflow_gpu-1.13.1-cp36-cp36m-manylinux1_x86_64.whl (345.2MB)\n",
            "\u001b[K    100% |████████████████████████████████| 345.2MB 44kB/s \n",
            "\u001b[?25hRequirement already satisfied: astor>=0.6.0 in /usr/local/lib/python3.6/dist-packages (from tensorflow-gpu) (0.7.1)\n",
            "Requirement already satisfied: tensorflow-estimator<1.14.0rc0,>=1.13.0 in /usr/local/lib/python3.6/dist-packages (from tensorflow-gpu) (1.13.0)\n",
            "Requirement already satisfied: termcolor>=1.1.0 in /usr/local/lib/python3.6/dist-packages (from tensorflow-gpu) (1.1.0)\n",
            "Requirement already satisfied: six>=1.10.0 in /usr/local/lib/python3.6/dist-packages (from tensorflow-gpu) (1.11.0)\n",
            "Requirement already satisfied: grpcio>=1.8.6 in /usr/local/lib/python3.6/dist-packages (from tensorflow-gpu) (1.15.0)\n",
            "Requirement already satisfied: protobuf>=3.6.1 in /usr/local/lib/python3.6/dist-packages (from tensorflow-gpu) (3.7.1)\n",
            "Requirement already satisfied: gast>=0.2.0 in /usr/local/lib/python3.6/dist-packages (from tensorflow-gpu) (0.2.2)\n",
            "Requirement already satisfied: keras-preprocessing>=1.0.5 in /usr/local/lib/python3.6/dist-packages (from tensorflow-gpu) (1.0.9)\n",
            "Requirement already satisfied: keras-applications>=1.0.6 in /usr/local/lib/python3.6/dist-packages (from tensorflow-gpu) (1.0.7)\n",
            "Requirement already satisfied: absl-py>=0.1.6 in /usr/local/lib/python3.6/dist-packages (from tensorflow-gpu) (0.7.1)\n",
            "Requirement already satisfied: wheel>=0.26 in /usr/local/lib/python3.6/dist-packages (from tensorflow-gpu) (0.33.1)\n",
            "Requirement already satisfied: tensorboard<1.14.0,>=1.13.0 in /usr/local/lib/python3.6/dist-packages (from tensorflow-gpu) (1.13.1)\n",
            "Requirement already satisfied: numpy>=1.13.3 in /usr/local/lib/python3.6/dist-packages (from tensorflow-gpu) (1.16.2)\n",
            "Requirement already satisfied: mock>=2.0.0 in /usr/local/lib/python3.6/dist-packages (from tensorflow-estimator<1.14.0rc0,>=1.13.0->tensorflow-gpu) (2.0.0)\n",
            "Requirement already satisfied: setuptools in /usr/local/lib/python3.6/dist-packages (from protobuf>=3.6.1->tensorflow-gpu) (40.9.0)\n",
            "Requirement already satisfied: h5py in /usr/local/lib/python3.6/dist-packages (from keras-applications>=1.0.6->tensorflow-gpu) (2.8.0)\n",
            "Requirement already satisfied: werkzeug>=0.11.15 in /usr/local/lib/python3.6/dist-packages (from tensorboard<1.14.0,>=1.13.0->tensorflow-gpu) (0.15.2)\n",
            "Requirement already satisfied: markdown>=2.6.8 in /usr/local/lib/python3.6/dist-packages (from tensorboard<1.14.0,>=1.13.0->tensorflow-gpu) (3.1)\n",
            "Requirement already satisfied: pbr>=0.11 in /usr/local/lib/python3.6/dist-packages (from mock>=2.0.0->tensorflow-estimator<1.14.0rc0,>=1.13.0->tensorflow-gpu) (5.1.3)\n",
            "Installing collected packages: tensorflow-gpu\n",
            "Successfully installed tensorflow-gpu-1.13.1\n"
          ],
          "name": "stdout"
        }
      ]
    },
    {
      "metadata": {
        "id": "tbrlgK6RbuEM",
        "colab_type": "code",
        "colab": {}
      },
      "cell_type": "code",
      "source": [
        ""
      ],
      "execution_count": 0,
      "outputs": []
    },
    {
      "metadata": {
        "id": "ILk4-kiAN756",
        "colab_type": "code",
        "outputId": "5a1707fd-135a-47c2-da03-05fadf6d6e5d",
        "colab": {
          "base_uri": "https://localhost:8080/",
          "height": 222
        }
      },
      "cell_type": "code",
      "source": [
        "!apt-get install -y -qq software-properties-common python-software-properties module-init-tools\n",
        "!add-apt-repository -y ppa:alessandro-strada/ppa 2>&1 > /dev/null\n",
        "!apt-get update -qq 2>&1 > /dev/null\n",
        "!apt-get -y install -qq google-drive-ocamlfuse fuse\n",
        "from google.colab import auth\n",
        "auth.authenticate_user()\n",
        "from oauth2client.client import GoogleCredentials\n",
        "creds = GoogleCredentials.get_application_default()\n",
        "import getpass\n",
        "!google-drive-ocamlfuse -headless -id={creds.client_id} -secret={creds.client_secret} < /dev/null 2>&1 | grep URL\n",
        "vcode = getpass.getpass()\n",
        "!echo {vcode} | google-drive-ocamlfuse -headless -id={creds.client_id} -secret={creds.client_secret}"
      ],
      "execution_count": 0,
      "outputs": [
        {
          "output_type": "stream",
          "text": [
            "E: Package 'python-software-properties' has no installation candidate\n",
            "Selecting previously unselected package google-drive-ocamlfuse.\n",
            "(Reading database ... 131304 files and directories currently installed.)\n",
            "Preparing to unpack .../google-drive-ocamlfuse_0.7.3-0ubuntu3~ubuntu18.04.1_amd64.deb ...\n",
            "Unpacking google-drive-ocamlfuse (0.7.3-0ubuntu3~ubuntu18.04.1) ...\n",
            "Setting up google-drive-ocamlfuse (0.7.3-0ubuntu3~ubuntu18.04.1) ...\n",
            "Processing triggers for man-db (2.8.3-2ubuntu0.1) ...\n",
            "Please, open the following URL in a web browser: https://accounts.google.com/o/oauth2/auth?client_id=32555940559.apps.googleusercontent.com&redirect_uri=urn%3Aietf%3Awg%3Aoauth%3A2.0%3Aoob&scope=https%3A%2F%2Fwww.googleapis.com%2Fauth%2Fdrive&response_type=code&access_type=offline&approval_prompt=force\n",
            "··········\n",
            "Please, open the following URL in a web browser: https://accounts.google.com/o/oauth2/auth?client_id=32555940559.apps.googleusercontent.com&redirect_uri=urn%3Aietf%3Awg%3Aoauth%3A2.0%3Aoob&scope=https%3A%2F%2Fwww.googleapis.com%2Fauth%2Fdrive&response_type=code&access_type=offline&approval_prompt=force\n",
            "Please enter the verification code: Access token retrieved correctly.\n"
          ],
          "name": "stdout"
        }
      ]
    },
    {
      "metadata": {
        "id": "VanR1PybOcoh",
        "colab_type": "code",
        "colab": {}
      },
      "cell_type": "code",
      "source": [
        "!mkdir -p drive\n",
        "!google-drive-ocamlfuse drive\n"
      ],
      "execution_count": 0,
      "outputs": []
    },
    {
      "metadata": {
        "id": "bZAxPSC8OhIg",
        "colab_type": "code",
        "colab": {}
      },
      "cell_type": "code",
      "source": [
        "import os\n",
        "os.chdir(\"drive/C-DCGAN\")\n"
      ],
      "execution_count": 0,
      "outputs": []
    },
    {
      "metadata": {
        "id": "fgZMLHo7OwPy",
        "colab_type": "code",
        "outputId": "04bfc274-73ef-4bc3-a363-bf8735a6c496",
        "colab": {
          "base_uri": "https://localhost:8080/",
          "height": 34
        }
      },
      "cell_type": "code",
      "source": [
        "!ls"
      ],
      "execution_count": 0,
      "outputs": [
        {
          "output_type": "stream",
          "text": [
            "C-DCGAN  MNIST_data\n"
          ],
          "name": "stdout"
        }
      ]
    },
    {
      "metadata": {
        "id": "xnIVq4vibV6v",
        "colab_type": "code",
        "outputId": "65f9f42b-9d8e-4357-c3fa-80a9556c5819",
        "colab": {
          "base_uri": "https://localhost:8080/",
          "height": 1558
        }
      },
      "cell_type": "code",
      "source": [
        "import os, time, random,itertools\n",
        "import numpy as np\n",
        "import matplotlib.pyplot as plt\n",
        "import tensorflow as tf\n",
        "from tensorflow.examples.tutorials.mnist import input_data\n",
        "import cv2\n",
        "# 保存图片\n",
        "dirpath = 'GAN/'\n",
        "model = 'GAN_MINIST'\n",
        "if not os.path.isdir(dirpath):\n",
        "    os.mkdir(dirpath)\n",
        "if not os.path.isdir(dirpath + 'FakeImg'):\n",
        "    os.mkdir(dirpath + 'FakeImg')\n",
        "# 初始化\n",
        "IMAGE_SIZE = 28\n",
        "onehot = np.eye(10)\n",
        "noise_ = np.random.normal(0, 1, (10, 1, 1, 100))\n",
        "fixed_noise_ = noise_\n",
        "fixed_label_ = np.zeros((10, 1))\n",
        "#用于最后显示十组图像\n",
        "for i in range(9):\n",
        "    fixed_noise_ = np.concatenate([fixed_noise_, noise_], 0)\n",
        "    temp = np.ones((10, 1)) + i\n",
        "    fixed_label_ = np.concatenate([fixed_label_, temp], 0)\n",
        "fixed_label_ = onehot[fixed_label_.astype(np.int32)].reshape((100, 1, 1, 10))\n",
        "batch_size = 100\n",
        "#一共迭代20次\n",
        "step = 40\n",
        "#设置一个全局的计数器\n",
        "global_step = tf.Variable(0, trainable=False)\n",
        "#设置学习率\n",
        "lr = tf.train.exponential_decay(0.0002, global_step, 500, 0.95, staircase=True)\n",
        "#加载数据集Batch大小：100\n",
        "mnist = input_data.read_data_sets(\"MNIST_data/\", one_hot=True, reshape=[])\n",
        "\n",
        "def leaky_relu(X, leak=0.2):\n",
        "    f1 = 0.5 * (1 + leak)\n",
        "    f2 = 0.5 * (1 - leak)\n",
        "    return f1 * X + f2 * tf.abs(X)\n",
        "\n",
        "def Generator(x, labels, Training=True, reuse=False):\n",
        "    with tf.variable_scope('Generator', reuse=reuse):\n",
        "        #初始化参数\n",
        "        W = tf.truncated_normal_initializer(mean=0.0, stddev=0.02)\n",
        "        b = tf.constant_initializer(0.0)\n",
        "        #把数据和标签进行连接\n",
        "        concat = tf.concat([x, labels], 3)\n",
        "        #第一次反卷积,卷积核大小为7*7，输出维度256\n",
        "        out_1 = tf.layers.conv2d_transpose(concat, 256, [7, 7],\n",
        "                                           strides=(1, 1),\n",
        "                                           padding='valid',\n",
        "                                           kernel_initializer=W,\n",
        "                                           bias_initializer=b)\n",
        "        out_1 = tf.layers.batch_normalization(out_1, training=Training)#batch norm\n",
        "        out_1 = leaky_relu(out_1, 0.2)\n",
        "         #第二次反卷机，卷积核大小为5*5，输出维度128\n",
        "        out_2 = tf.layers.conv2d_transpose(out_1, 128, [5, 5],\n",
        "                                           strides=(2, 2),\n",
        "                                           padding='same',\n",
        "                                           kernel_initializer=W,\n",
        "                                           bias_initializer=b)\n",
        "        out_2 = tf.layers.batch_normalization(out_2, training=Training)#batch norm\n",
        "        out_2 = leaky_relu(out_2, 0.2)\n",
        "         #第三次反卷机，卷积核大小5*5，输出维度1\n",
        "        out_3 = tf.layers.conv2d_transpose(out_2, 1, [5, 5],\n",
        "                                           strides=(2, 2),\n",
        "                                           padding='same',\n",
        "                                           kernel_initializer=W,\n",
        "                                           bias_initializer=b)\n",
        "        out_3 = tf.nn.tanh(out_3)\n",
        "        return out_3\n",
        "\n",
        "def Discriminator(x, real, Training=True, reuse=False):\n",
        "    with tf.variable_scope('Discriminator', reuse=reuse):\n",
        "        #初始化参数\n",
        "        W = tf.truncated_normal_initializer(mean=0.0, stddev=0.02)\n",
        "        b = tf.constant_initializer(0.0)\n",
        "        #把数据和标签进行连接\n",
        "        concat = tf.concat([x, real], 3)\n",
        "        #第一次卷积 卷积核为5*5 输出维度为128\n",
        "        out_1 = tf.layers.conv2d(concat, 128, [5, 5],\n",
        "                                 strides=(2, 2),\n",
        "                                 padding='same',\n",
        "                                 kernel_initializer=W,\n",
        "                                 bias_initializer=b)\n",
        "        out_1 = leaky_relu(out_1, 0.2)\n",
        "        # 第二次卷积 卷积核为5*5 输出维度256\n",
        "        out_2 = tf.layers.conv2d(out_1, 256, [5, 5],\n",
        "                                 strides=(2, 2),\n",
        "                                 padding='same',\n",
        "                                 kernel_initializer=W,\n",
        "                                 bias_initializer=b)\n",
        "        out_2 = tf.layers.batch_normalization(out_2, training=Training)#batch norm\n",
        "        out_2 = leaky_relu(out_2, 0.2)\n",
        "        #第三次卷积，卷积和为7*7，输出维度为1\n",
        "        out_3 = tf.layers.conv2d(out_2, 1, [7, 7],\n",
        "                                 strides=(1, 1),\n",
        "                                 padding='valid',\n",
        "                                 kernel_initializer=W)\n",
        "        logits = tf.nn.sigmoid(out_3)\n",
        "        return logits, out_3\n",
        "\n",
        "def show_result(num_epoch, path, show = False , save = False ):\n",
        "    test_images = sess.run(G_noise, {noise: fixed_noise_, labels: fixed_label_, Training: False})\n",
        "    size_figure_grid = 10\n",
        "    fig, ax = plt.subplots(size_figure_grid, size_figure_grid, figsize=(5, 5))\n",
        "    for i, j in itertools.product(range(size_figure_grid), range(size_figure_grid)):\n",
        "        ax[i, j].get_xaxis().set_visible(False)\n",
        "        ax[i, j].get_yaxis().set_visible(False)\n",
        "    for k in range(10*10):\n",
        "        i = k // 10\n",
        "        j = k % 10\n",
        "        ax[i, j].cla()\n",
        "        ax[i, j].imshow(np.reshape(test_images[k], (IMAGE_SIZE, IMAGE_SIZE)), cmap='gray')\n",
        "    label = 'Step {0}'.format(num_epoch)\n",
        "    fig.text(0.5, 0.04, label, ha='center')\n",
        "    if save:\n",
        "        plt.savefig(path)\n",
        "    if show:\n",
        "        plt.show()\n",
        "    else:\n",
        "        plt.close()\n",
        "\n",
        "x = tf.placeholder(tf.float32, shape=(None, IMAGE_SIZE, IMAGE_SIZE, 1))\n",
        "noise = tf.placeholder(tf.float32, shape=(None, 1, 1, 100))\n",
        "labels = tf.placeholder(tf.float32, shape=(None, 1, 1, 10))\n",
        "real = tf.placeholder(tf.float32, shape=(None, IMAGE_SIZE, IMAGE_SIZE, 10))\n",
        "Training = tf.placeholder(dtype=tf.bool)\n",
        "\n",
        "# 运行生成网络哦\n",
        "G_noise = Generator(noise, labels, Training)\n",
        "# 运行判别网络\n",
        "D_real, D_real_logits = Discriminator(x, real, Training)\n",
        "D_fake, D_fake_logits = Discriminator(G_noise, real, Training, reuse=True)\n",
        "# 计算每个网络的损失函数\n",
        "#算判别器真值的损失函数\n",
        "Dis_loss_real = tf.reduce_mean(tf.nn.sigmoid_cross_entropy_with_logits(logits=D_real_logits,\n",
        "                                                                       labels=tf.ones([batch_size, 1, 1, 1])))\n",
        "#算判别器噪声生成图片的损失函数\n",
        "Dis_loss_fake = tf.reduce_mean(tf.nn.sigmoid_cross_entropy_with_logits(logits=D_fake_logits,\n",
        "                                                                       labels=tf.zeros([batch_size, 1, 1, 1])))\n",
        "#损失函数求和\n",
        "Dis_loss = Dis_loss_real + Dis_loss_fake\n",
        "#计算生成器的损失函数\n",
        "Gen_loss = tf.reduce_mean(tf.nn.sigmoid_cross_entropy_with_logits(logits=D_fake_logits,\n",
        "                                                                  labels=tf.ones([batch_size, 1, 1, 1])))\n",
        "# 提取每个网络的变量\n",
        "tf_vars = tf.trainable_variables()\n",
        "Dis_vars = [var for var in tf_vars if var.name.startswith('Discriminator')]\n",
        "Gen_vars = [var for var in tf_vars if var.name.startswith('Generator')]\n",
        "# 调整参数 设计是用来控制计算流图的，给图中的某些计算指定顺序\n",
        "with tf.control_dependencies(tf.get_collection(tf.GraphKeys.UPDATE_OPS)):\n",
        "    optim = tf.train.AdamOptimizer(lr, beta1=0.5)#寻找全局最优点的优化算法，引入了二次方梯度校正 衰减率0.5\n",
        "    D_optim = optim.minimize(Dis_loss, global_step=global_step, var_list=Dis_vars)#优化更新训练的模型参数，也可以为全局步骤(global step)计数\n",
        "    G_optim = tf.train.AdamOptimizer(lr, beta1=0.5).minimize(Gen_loss, var_list=Gen_vars)#寻找全局最优点的优化算法，引入了二次方梯度校正 衰减率0.5\n",
        "\n",
        "\n",
        "# 开启一个session，\n",
        "sess = tf.InteractiveSession()\n",
        "tf.global_variables_initializer().run()\n",
        "#对MNIST做一下处理\n",
        "train_set = (mnist.train.images - 0.5) / 0.5\n",
        "train_label = mnist.train.labels\n",
        "for i in range(step):\n",
        "    Gen_losses = []\n",
        "    Dis_losses = []\n",
        "    i_start_time = time.time()\n",
        "    index = random.sample(range(0, train_set.shape[0]), train_set.shape[0])\n",
        "    new_set = train_set[index]\n",
        "    new_label = train_label[index]\n",
        "    for j in range(new_set.shape[0] // batch_size):\n",
        "        #对判别器进行更新\n",
        "        x_ = new_set[j*batch_size:(j+1)*batch_size]\n",
        "        label_ = new_label[j*batch_size:(j+1)*batch_size].reshape([batch_size, 1, 1, 10])\n",
        "        real_ = label_ * np.ones([batch_size, IMAGE_SIZE, IMAGE_SIZE, 10])\n",
        "        noise_ = np.random.normal(0, 1, (batch_size, 1, 1, 100))\n",
        "        loss_d_, _ = sess.run([Dis_loss, D_optim], {x: x_, noise: noise_, real: real_, labels: label_, Training: True})\n",
        "        #对生成器进行更新\n",
        "        noise_ = np.random.normal(0, 1, (batch_size, 1, 1, 100))\n",
        "        y_ = np.random.randint(0, 9, (batch_size, 1))\n",
        "        label_ = onehot[y_.astype(np.int32)].reshape([batch_size, 1, 1, 10])\n",
        "        real_ = label_ * np.ones([batch_size, IMAGE_SIZE, IMAGE_SIZE, 10])\n",
        "        loss_g_, _ = sess.run([Gen_loss, G_optim], {noise: noise_, x: x_, real: real_, labels: label_, Training: True})\n",
        "        #计算训练过程中的损失函数\n",
        "        errD_fake = Dis_loss_fake.eval({noise: noise_, labels: label_, real: real_, Training: False})\n",
        "        errD_real = Dis_loss_real.eval({x: x_, labels: label_, real: real_, Training: False})\n",
        "        errG = Gen_loss.eval({noise: noise_, labels: label_, real: real_, Training: False})\n",
        "        Dis_losses.append(errD_fake + errD_real)\n",
        "        Gen_losses.append(errG)\n",
        "        if(j%100==0):\n",
        "            pic = dirpath + 'FakeImg/' + model +str(i + 1) + '_' + str(i *new_set.shape[0] // batch_size + j+1) + '.png'\n",
        "            show_result((i + 1),  path=pic ,save=True)\n",
        "    print('Dis_losses: %.6f, Gen_losses: %.6f' % (np.mean(Dis_losses), np.mean(Gen_losses)))\n",
        "    pic = dirpath + 'FakeImg/' + model + str(i + 1) + '.png'\n",
        "    show_result((i + 1), path=pic , save=True )\n",
        "sess.close()\n",
        "\n",
        "plt.title('Result Analysis')\n",
        "plt.plot(Dis_losses, color='green', label='Discriminator loss')\n",
        "plt.plot(Gen_losses, color='red', label='Generator loss')\n",
        "\n",
        "plt.legend()\n",
        "plt.xlabel('step')\n",
        "plt.ylabel('rate')\n",
        "plt.savefig(\"loss.jpg\")\n",
        "plt.show()"
      ],
      "execution_count": 0,
      "outputs": [
        {
          "output_type": "stream",
          "text": [
            "WARNING:tensorflow:From /usr/local/lib/python3.6/dist-packages/tensorflow/python/framework/op_def_library.py:263: colocate_with (from tensorflow.python.framework.ops) is deprecated and will be removed in a future version.\n",
            "Instructions for updating:\n",
            "Colocations handled automatically by placer.\n",
            "WARNING:tensorflow:From <ipython-input-6-97a8fe629a5b>:34: read_data_sets (from tensorflow.contrib.learn.python.learn.datasets.mnist) is deprecated and will be removed in a future version.\n",
            "Instructions for updating:\n",
            "Please use alternatives such as official/mnist/dataset.py from tensorflow/models.\n",
            "WARNING:tensorflow:From /usr/local/lib/python3.6/dist-packages/tensorflow/contrib/learn/python/learn/datasets/mnist.py:260: maybe_download (from tensorflow.contrib.learn.python.learn.datasets.base) is deprecated and will be removed in a future version.\n",
            "Instructions for updating:\n",
            "Please write your own downloading logic.\n",
            "WARNING:tensorflow:From /usr/local/lib/python3.6/dist-packages/tensorflow/contrib/learn/python/learn/datasets/mnist.py:262: extract_images (from tensorflow.contrib.learn.python.learn.datasets.mnist) is deprecated and will be removed in a future version.\n",
            "Instructions for updating:\n",
            "Please use tf.data to implement this functionality.\n",
            "Extracting MNIST_data/train-images-idx3-ubyte.gz\n",
            "WARNING:tensorflow:From /usr/local/lib/python3.6/dist-packages/tensorflow/contrib/learn/python/learn/datasets/mnist.py:267: extract_labels (from tensorflow.contrib.learn.python.learn.datasets.mnist) is deprecated and will be removed in a future version.\n",
            "Instructions for updating:\n",
            "Please use tf.data to implement this functionality.\n",
            "Extracting MNIST_data/train-labels-idx1-ubyte.gz\n",
            "WARNING:tensorflow:From /usr/local/lib/python3.6/dist-packages/tensorflow/contrib/learn/python/learn/datasets/mnist.py:110: dense_to_one_hot (from tensorflow.contrib.learn.python.learn.datasets.mnist) is deprecated and will be removed in a future version.\n",
            "Instructions for updating:\n",
            "Please use tf.one_hot on tensors.\n",
            "Extracting MNIST_data/t10k-images-idx3-ubyte.gz\n",
            "Extracting MNIST_data/t10k-labels-idx1-ubyte.gz\n",
            "WARNING:tensorflow:From /usr/local/lib/python3.6/dist-packages/tensorflow/contrib/learn/python/learn/datasets/mnist.py:290: DataSet.__init__ (from tensorflow.contrib.learn.python.learn.datasets.mnist) is deprecated and will be removed in a future version.\n",
            "Instructions for updating:\n",
            "Please use alternatives such as official/mnist/dataset.py from tensorflow/models.\n",
            "WARNING:tensorflow:From <ipython-input-6-97a8fe629a5b>:53: conv2d_transpose (from tensorflow.python.layers.convolutional) is deprecated and will be removed in a future version.\n",
            "Instructions for updating:\n",
            "Use keras.layers.conv2d_transpose instead.\n",
            "WARNING:tensorflow:From <ipython-input-6-97a8fe629a5b>:54: batch_normalization (from tensorflow.python.layers.normalization) is deprecated and will be removed in a future version.\n",
            "Instructions for updating:\n",
            "Use keras.layers.batch_normalization instead.\n",
            "WARNING:tensorflow:From <ipython-input-6-97a8fe629a5b>:85: conv2d (from tensorflow.python.layers.convolutional) is deprecated and will be removed in a future version.\n",
            "Instructions for updating:\n",
            "Use keras.layers.conv2d instead.\n",
            "Dis_losses: 1.713646, Gen_losses: 1.154441\n",
            "Dis_losses: 1.404335, Gen_losses: 1.421303\n",
            "Dis_losses: 1.620173, Gen_losses: 1.159001\n",
            "Dis_losses: 1.710000, Gen_losses: 1.027924\n",
            "Dis_losses: 1.801511, Gen_losses: 1.024471\n",
            "Dis_losses: 1.874100, Gen_losses: 1.013270\n",
            "Dis_losses: 1.911298, Gen_losses: 1.030772\n",
            "Dis_losses: 2.031835, Gen_losses: 1.154613\n",
            "Dis_losses: 1.755707, Gen_losses: 0.942083\n",
            "Dis_losses: 1.864857, Gen_losses: 1.098812\n",
            "Dis_losses: 1.738356, Gen_losses: 0.935082\n",
            "Dis_losses: 2.009688, Gen_losses: 1.198175\n",
            "Dis_losses: 1.741554, Gen_losses: 0.977038\n",
            "Dis_losses: 1.898572, Gen_losses: 1.075562\n",
            "Dis_losses: 1.801802, Gen_losses: 0.953110\n",
            "Dis_losses: 1.823921, Gen_losses: 0.979409\n",
            "Dis_losses: 1.873187, Gen_losses: 1.004760\n",
            "Dis_losses: 1.630186, Gen_losses: 0.732264\n",
            "Dis_losses: 1.957342, Gen_losses: 1.195797\n",
            "Dis_losses: 1.770093, Gen_losses: 0.693085\n",
            "Dis_losses: 1.960468, Gen_losses: 1.050836\n",
            "Dis_losses: 1.539931, Gen_losses: 1.037174\n",
            "Dis_losses: 1.614044, Gen_losses: 1.126319\n",
            "Dis_losses: 1.877681, Gen_losses: 1.190560\n",
            "Dis_losses: 1.665816, Gen_losses: 1.023257\n",
            "Dis_losses: 1.727857, Gen_losses: 1.126804\n",
            "Dis_losses: 1.844529, Gen_losses: 1.018313\n",
            "Dis_losses: 1.464319, Gen_losses: 1.164317\n",
            "Dis_losses: 1.915016, Gen_losses: 1.388941\n",
            "Dis_losses: 1.803938, Gen_losses: 1.215252\n",
            "Dis_losses: 1.680351, Gen_losses: 0.867476\n",
            "Dis_losses: 1.448241, Gen_losses: 0.746160\n",
            "Dis_losses: 1.778099, Gen_losses: 1.164947\n",
            "Dis_losses: 1.505823, Gen_losses: 0.870873\n",
            "Dis_losses: 1.677560, Gen_losses: 1.083491\n",
            "Dis_losses: 1.626238, Gen_losses: 0.748385\n",
            "Dis_losses: 1.456890, Gen_losses: 0.945464\n",
            "Dis_losses: 1.585650, Gen_losses: 1.057703\n",
            "Dis_losses: 1.715925, Gen_losses: 1.244703\n",
            "Dis_losses: 1.608958, Gen_losses: 0.950194\n"
          ],
          "name": "stdout"
        },
        {
          "output_type": "display_data",
          "data": {
            "image/png": "[encoded data removed]",
            "text/plain": [
              "<Figure size 432x288 with 1 Axes>"
            ]
          },
          "metadata": {
            "tags": []
          }
        }
      ]
    },
    {
      "metadata": {
        "id": "usQAQziss2Um",
        "colab_type": "code",
        "outputId": "5ecbd5bf-482e-4d25-fdb2-c2d85b9447c2",
        "colab": {
          "base_uri": "https://localhost:8080/",
          "height": 295
        }
      },
      "cell_type": "code",
      "source": [
        "plt.title('Result Analysis')\n",
        "plt.plot(Dis_losses, color='green', label='Discriminator loss')\n",
        "\n",
        "\n",
        "plt.legend()\n",
        "plt.xlabel('step')\n",
        "plt.ylabel('rate')\n",
        "plt.savefig(\"D_loss.jpg\")\n",
        "plt.show()"
      ],
      "execution_count": 0,
      "outputs": [
        {
          "output_type": "display_data",
          "data": {
            "image/png": "[encoded data removed]",
            "text/plain": [
              "<Figure size 432x288 with 1 Axes>"
            ]
          },
          "metadata": {
            "tags": []
          }
        }
      ]
    },
    {
      "metadata": {
        "id": "jknbSwo2tEi8",
        "colab_type": "code",
        "outputId": "29d2f782-c279-4a43-d209-913d59634c70",
        "colab": {
          "base_uri": "https://localhost:8080/",
          "height": 295
        }
      },
      "cell_type": "code",
      "source": [
        "plt.title('Result Analysis')\n",
        "plt.plot(Gen_losses, color='red', label='Generator loss')\n",
        "\n",
        "plt.legend()\n",
        "plt.xlabel('step')\n",
        "plt.ylabel('rate')\n",
        "plt.savefig(\"G_loss.jpg\")\n",
        "plt.show()"
      ],
      "execution_count": 0,
      "outputs": [
        {
          "output_type": "display_data",
          "data": {
            "image/png": "[encoded data removed]",
            "text/plain": [
              "<Figure size 432x288 with 1 Axes>"
            ]
          },
          "metadata": {
            "tags": []
          }
        }
      ]
    }
  ]
}